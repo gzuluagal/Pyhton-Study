{
 "cells": [
  {
   "cell_type": "markdown",
   "metadata": {},
   "source": [
    "**Agregar notas de ints**"
   ]
  },
  {
   "cell_type": "code",
   "execution_count": 1,
   "metadata": {},
   "outputs": [],
   "source": [
    "import sys\n",
    "import time\n",
    "import math"
   ]
  },
  {
   "cell_type": "code",
   "execution_count": 2,
   "metadata": {},
   "outputs": [
    {
     "data": {
      "text/plain": [
       "160"
      ]
     },
     "execution_count": 2,
     "metadata": {},
     "output_type": "execute_result"
    }
   ],
   "source": [
    "sys.getsizeof(2**1000) # Calcular el tamaño de un objeto"
   ]
  },
  {
   "cell_type": "markdown",
   "metadata": {},
   "source": [
    "When an integer is bigger it takes more computation power because it takes more space to store it"
   ]
  },
  {
   "cell_type": "code",
   "execution_count": 3,
   "metadata": {},
   "outputs": [],
   "source": [
    "def calc(a):\n",
    "    for i in range(10000000):\n",
    "        a * 2"
   ]
  },
  {
   "cell_type": "code",
   "execution_count": 4,
   "metadata": {},
   "outputs": [
    {
     "name": "stdout",
     "output_type": "stream",
     "text": [
      "Tiempo recorrido: 0.35996800000000917\n"
     ]
    }
   ],
   "source": [
    "start = time.perf_counter()\n",
    "calc(10)\n",
    "end = time.perf_counter()\n",
    "print('Tiempo recorrido: {0}'.format(end-start))"
   ]
  },
  {
   "cell_type": "code",
   "execution_count": 5,
   "metadata": {},
   "outputs": [
    {
     "name": "stdout",
     "output_type": "stream",
     "text": [
      "Tiempo recorrido: 0.6860964000000251\n"
     ]
    }
   ],
   "source": [
    "start = time.perf_counter()\n",
    "calc(2**100)\n",
    "end = time.perf_counter()\n",
    "print('Tiempo recorrido: {0}'.format(end-start))"
   ]
  },
  {
   "cell_type": "code",
   "execution_count": 6,
   "metadata": {},
   "outputs": [
    {
     "name": "stdout",
     "output_type": "stream",
     "text": [
      "Tiempo recorrido: 4.757022199999994\n"
     ]
    }
   ],
   "source": [
    "start = time.perf_counter()\n",
    "calc(2**10000)\n",
    "end = time.perf_counter()\n",
    "print('Tiempo recorrido: {0}'.format(end-start))"
   ]
  },
  {
   "cell_type": "markdown",
   "metadata": {},
   "source": [
    "**Operations with integers**\n",
    "\n",
    "with the int's when we divide them they alway return a float\n",
    "\n",
    "* // floor division\n",
    "\n",
    "<div style=\"display: flex; justify-content: center;\">\n",
    "    <img src=\"..\\Img\\floor.PNG\"  width=\"450\" style=\"margin-right: 10px;\">\n",
    "    <img src=\"..\\Img\\negative_floor.PNG\" width=\"450\">\n",
    "</div>\n",
    "\n",
    "The floor function is tricky when it comes to negatives"
   ]
  },
  {
   "cell_type": "code",
   "execution_count": 7,
   "metadata": {},
   "outputs": [
    {
     "name": "stdout",
     "output_type": "stream",
     "text": [
      "See this example\n",
      "floor(-3.1): -4\n",
      "It has sence beacuse the floor of a is that integer<=a, but see this another example:\n",
      "floor(-3.0000000000000000000001)): -3\n",
      "Now the floor is 3, and thats because with floats we have a limited numbers of 0 we can deal with\n",
      "so in this example Python is assuming that the number that we are taking the floor is 3 and it drops the 1\n"
     ]
    }
   ],
   "source": [
    "print(\"See this example\")\n",
    "print(f'floor(-3.1): {math.floor(-3.1)}')\n",
    "print(\"It has sence beacuse the floor of a is that integer<=a, but see this another example:\")\n",
    "print(f'floor(-3.0000000000000000000001)): {math.floor(-3.0000000000000000000001)}')\n",
    "print('Now the floor is 3, and thats because with floats we have a limited numbers of 0 we can deal with')\n",
    "print('so in this example Python is assuming that the number that we are taking the floor is 3 and it drops the 1')"
   ]
  },
  {
   "cell_type": "code",
   "execution_count": 8,
   "metadata": {},
   "outputs": [
    {
     "name": "stdout",
     "output_type": "stream",
     "text": [
      "2.0625\n",
      "2\n",
      "2\n",
      "lets see the a negative\n",
      "-2.0625\n",
      "-3\n",
      "-3\n"
     ]
    }
   ],
   "source": [
    "a = 33\n",
    "b = 16\n",
    "print(a/b)\n",
    "print(a//b)\n",
    "print(math.floor(a/b))\n",
    "# lets see the a negative\n",
    "print('lets see the a negative')\n",
    "a = -33\n",
    "b = 16\n",
    "print(a/b)\n",
    "print(a//b)\n",
    "print(math.floor(a/b))"
   ]
  },
  {
   "cell_type": "markdown",
   "metadata": {},
   "source": [
    "So the floor division is the largest number for which we can divide the number. See the next example:"
   ]
  },
  {
   "cell_type": "code",
   "execution_count": 9,
   "metadata": {},
   "outputs": [
    {
     "name": "stdout",
     "output_type": "stream",
     "text": [
      "Floor division: a//b 46\n",
      "Division: a/b 46.4\n"
     ]
    }
   ],
   "source": [
    "a = 232\n",
    "b = 5\n",
    "print(f'Floor division: a//b {a//b}')\n",
    "print(f'Division: a/b {a/b}')\n"
   ]
  },
  {
   "cell_type": "markdown",
   "metadata": {},
   "source": [
    "**Ints: Constructors and Bases**\n",
    "\n",
    "On python we can represent numbers in 36 different bases, that is acomplished using encoding like 1->1, 2->2...9->9,\n",
    "\n",
    "but when we reach 10 and greater numbers, python uses letters like this: 10->a, 11->b, ...\n",
    "\n",
    "and so on. The code below is an implementation for this porpouse.\n"
   ]
  },
  {
   "cell_type": "code",
   "execution_count": 10,
   "metadata": {},
   "outputs": [
    {
     "name": "stdout",
     "output_type": "stream",
     "text": [
      "8F71\n",
      "36721\n"
     ]
    }
   ],
   "source": [
    "def from_base10(n: int, b: int) -> list:\n",
    "    if n < 0 | b < 2:\n",
    "        raise Exception(f\"n must be >= 0 and b >= 2\")\n",
    "    elif n == 0:\n",
    "        return [0]\n",
    "    else:\n",
    "        digits = []\n",
    "        while n > 0:\n",
    "            m, n =  n % b, n // b\n",
    "            digits.insert(0,m)\n",
    "        return digits\n",
    "\n",
    "def encode(digits, digit_map):\n",
    "    # Error verification\n",
    "    if max(digits) >= len(digit_map):\n",
    "        raise ValueError(\"digit_map is not long enough to encode the digits\")\n",
    "    encodig = ''.join([digit_map[d] for d in digits])\n",
    "\n",
    "    '''\n",
    "    # An alternative way to do this:\n",
    "        for d in digits:\n",
    "            encodig += digit_map[d]\n",
    "    '''\n",
    "    return encodig\n",
    "\n",
    "def rebase_from10(number, base):\n",
    "    digit_map = '0123456789ABCDEFGHIJKLMNOPQRSTUVWXYZ'\n",
    "    if base < 2 or base > 36:\n",
    "        raise ValueError('Invalid base: 2 <= base <= 36')\n",
    "    sign = -1 if number < 0 else 1\n",
    "    number *= sign\n",
    "\n",
    "    digits = from_base10(number, base)\n",
    "    encoding = encode(digits, digit_map)\n",
    "    if sign == -1:\n",
    "        encoding = '-' + encoding\n",
    "    return encoding\n",
    "\n",
    "e = rebase_from10(36721,16)\n",
    "print(e)\n",
    "print(int(e, base=16))\n"
   ]
  },
  {
   "cell_type": "markdown",
   "metadata": {},
   "source": [
    "**Floats, rational and irrational numbers**\n",
    "\n",
    "Notes: We have to be carefully with the floats because not all the floats can be representated with precision, for example:"
   ]
  },
  {
   "cell_type": "code",
   "execution_count": 11,
   "metadata": {},
   "outputs": [
    {
     "name": "stdout",
     "output_type": "stream",
     "text": [
      "0.125\n",
      "0.3\n"
     ]
    }
   ],
   "source": [
    "a = 0.125\n",
    "b = 0.3\n",
    "print(a)\n",
    "print(b)"
   ]
  },
  {
   "cell_type": "markdown",
   "metadata": {},
   "source": [
    "It seems that they are stored as we expected, but lets see this:"
   ]
  },
  {
   "cell_type": "code",
   "execution_count": 12,
   "metadata": {},
   "outputs": [
    {
     "name": "stdout",
     "output_type": "stream",
     "text": [
      "0.2999999999999999888977698\n",
      "0.1250000000000000000000000\n"
     ]
    }
   ],
   "source": [
    "print(format(b, '.25f'))\n",
    "print(format(a, '.25f'))"
   ]
  },
  {
   "cell_type": "markdown",
   "metadata": {},
   "source": [
    "This happens because there are numbers that cant be representated in the computer. There is a trick to 'fix' this, for instance, we want 0.3, we know that 0.3 is 3/10 so we are going to use the fraction module to get that number"
   ]
  },
  {
   "cell_type": "code",
   "execution_count": 13,
   "metadata": {},
   "outputs": [
    {
     "name": "stdout",
     "output_type": "stream",
     "text": [
      "5404319552844595/18014398509481984\n",
      "3/10\n"
     ]
    }
   ],
   "source": [
    "from fractions import Fraction\n",
    "x = Fraction(0.3)\n",
    "# This wont give us 3/10\n",
    "print(x)\n",
    "# This method will give us 3/10\n",
    "print(x.limit_denominator(10))\n"
   ]
  },
  {
   "cell_type": "markdown",
   "metadata": {},
   "source": [
    "**Floats equality testing**\n",
    "\n",
    "Because the way the numbers are stored in the computer we can came across with things like this:\n",
    "\n",
    "x = 0.1 + 0.1 + 0.1, y = 0.3\n",
    "\n",
    "x==y = False\n",
    "\n",
    "But this happens because 0.3 does not have exact binary representation.\n",
    "\n",
    "This function helps to fix that problem:\n",
    "\n",
    "<img src=\"..\\Img\\float_equality.PNG\" width=\"600\">"
   ]
  },
  {
   "cell_type": "code",
   "execution_count": 14,
   "metadata": {},
   "outputs": [
    {
     "data": {
      "text/plain": [
       "False"
      ]
     },
     "execution_count": 14,
     "metadata": {},
     "output_type": "execute_result"
    }
   ],
   "source": [
    "# Fail the equality\n",
    "x = 0.1 + 0.1 + 0.1\n",
    "y = 0.3\n",
    "x == y"
   ]
  },
  {
   "cell_type": "code",
   "execution_count": null,
   "metadata": {},
   "outputs": [],
   "source": []
  }
 ],
 "metadata": {
  "kernelspec": {
   "display_name": "Python 3",
   "language": "python",
   "name": "python3"
  },
  "language_info": {
   "codemirror_mode": {
    "name": "ipython",
    "version": 3
   },
   "file_extension": ".py",
   "mimetype": "text/x-python",
   "name": "python",
   "nbconvert_exporter": "python",
   "pygments_lexer": "ipython3",
   "version": "3.11.8"
  }
 },
 "nbformat": 4,
 "nbformat_minor": 2
}
